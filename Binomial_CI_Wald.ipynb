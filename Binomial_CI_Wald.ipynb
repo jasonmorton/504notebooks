{
 "cells": [
  {
   "cell_type": "markdown",
   "metadata": {},
   "source": [
    "Illustration of the issues with the confidence interval for binomial using Wald and Fisher information"
   ]
  },
  {
   "cell_type": "code",
   "execution_count": 1,
   "metadata": {},
   "outputs": [],
   "source": [
    "trials<-1000\n",
    "n<-100\n",
    "p<-0.1 # make this smaller to see the CI % get farther off\n",
    "#rbinom(100,100,.2) draws from Bin(n,p) ten times\n",
    "x<-rbinom(trials,n,p)"
   ]
  },
  {
   "cell_type": "code",
   "execution_count": 2,
   "metadata": {},
   "outputs": [],
   "source": [
    "#x;"
   ]
  },
  {
   "cell_type": "code",
   "execution_count": 3,
   "metadata": {},
   "outputs": [],
   "source": [
    "phat = x/n # the MLEs in each case"
   ]
  },
  {
   "cell_type": "code",
   "execution_count": 4,
   "metadata": {},
   "outputs": [],
   "source": [
    "FI = n/(phat*(1-phat)) # the vector of Fisher Informations\n",
    "#FI"
   ]
  },
  {
   "cell_type": "code",
   "execution_count": 5,
   "metadata": {},
   "outputs": [],
   "source": [
    "varhat = 1/FI # the vector of estimated variances for the mle"
   ]
  },
  {
   "cell_type": "code",
   "execution_count": 6,
   "metadata": {},
   "outputs": [],
   "source": [
    "#varhat"
   ]
  },
  {
   "cell_type": "markdown",
   "metadata": {},
   "source": [
    "Now we compute the vectors of lower and upper bounds of our confidence intervals"
   ]
  },
  {
   "cell_type": "code",
   "execution_count": 7,
   "metadata": {},
   "outputs": [],
   "source": [
    "lower = phat - 1.96*sqrt(varhat)"
   ]
  },
  {
   "cell_type": "code",
   "execution_count": 8,
   "metadata": {},
   "outputs": [],
   "source": [
    "upper = phat + 1.96*sqrt(varhat)"
   ]
  },
  {
   "cell_type": "markdown",
   "metadata": {},
   "source": [
    "If this is a good CI, the next number should converge to .95 as trials $\\rightarrow \\infty$"
   ]
  },
  {
   "cell_type": "code",
   "execution_count": 9,
   "metadata": {},
   "outputs": [
    {
     "data": {
      "text/html": [
       "0.922"
      ],
      "text/latex": [
       "0.922"
      ],
      "text/markdown": [
       "0.922"
      ],
      "text/plain": [
       "[1] 0.922"
      ]
     },
     "metadata": {},
     "output_type": "display_data"
    }
   ],
   "source": [
    "sum(lower< p & p<upper)/trials "
   ]
  },
  {
   "cell_type": "code",
   "execution_count": 10,
   "metadata": {},
   "outputs": [],
   "source": [
    "meta = 10000\n",
    "metatrials = rep(0,meta);\n",
    "for(i in 0:meta)\n",
    "{\n",
    "  x<-rbinom(trials,n,p);\n",
    "  phat = x/n;\n",
    "  FI = n/(phat*(1-phat));\n",
    "  varhat = 1/FI;\n",
    "  lower = phat - 1.96*sqrt(varhat);\n",
    "  upper = phat + 1.96*sqrt(varhat);\n",
    "  inthere = sum(lower< p & p<upper)/trials ;\n",
    "  metatrials[i]=inthere;\n",
    "}"
   ]
  },
  {
   "cell_type": "code",
   "execution_count": 11,
   "metadata": {},
   "outputs": [
    {
     "data": {
      "image/png": "[encoded data removed]",
      "text/plain": [
       "Plot with title “density.default(x = metatrials)”"
      ]
     },
     "metadata": {},
     "output_type": "display_data"
    }
   ],
   "source": [
    "plot(density(metatrials))"
   ]
  },
  {
   "cell_type": "markdown",
   "metadata": {},
   "source": [
    "Notice our 95% CI doesn't work as advertised."
   ]
  },
  {
   "cell_type": "code",
   "execution_count": null,
   "metadata": {},
   "outputs": [],
   "source": []
  }
 ],
 "metadata": {
  "kernelspec": {
   "display_name": "R",
   "language": "R",
   "name": "ir"
  },
  "language_info": {
   "codemirror_mode": "r",
   "file_extension": ".r",
   "mimetype": "text/x-r-source",
   "name": "R",
   "pygments_lexer": "r",
   "version": "3.6.1"
  }
 },
 "nbformat": 4,
 "nbformat_minor": 1
}
