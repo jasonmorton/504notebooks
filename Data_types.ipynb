{
 "cells": [
  {
   "cell_type": "markdown",
   "metadata": {},
   "source": [
    "## Data types in a frame\n",
    "A categorical variable is related to what is sometimes called an \"enum\" in other languages.  R calls these \"factors\" and represents them efficiently as integers. For code designed for categorical variables, we need to tell R that this column of a data frame should be treated as a \"factor.\"\n",
    "\n",
    "Here is a column of strings:"
   ]
  },
  {
   "cell_type": "code",
   "execution_count": 60,
   "metadata": {
    "collapsed": false
   },
   "outputs": [],
   "source": [
    "stringcolors = c(\"red\",\"red\",\"blue\",\"green\",\"red\")"
   ]
  },
  {
   "cell_type": "code",
   "execution_count": 61,
   "metadata": {
    "collapsed": false
   },
   "outputs": [
    {
     "data": {
      "text/html": [
       "<ol class=list-inline>\n",
       "\t<li>'red'</li>\n",
       "\t<li>'red'</li>\n",
       "\t<li>'blue'</li>\n",
       "\t<li>'green'</li>\n",
       "\t<li>'red'</li>\n",
       "</ol>\n"
      ],
      "text/latex": [
       "\\begin{enumerate*}\n",
       "\\item 'red'\n",
       "\\item 'red'\n",
       "\\item 'blue'\n",
       "\\item 'green'\n",
       "\\item 'red'\n",
       "\\end{enumerate*}\n"
      ],
      "text/markdown": [
       "1. 'red'\n",
       "2. 'red'\n",
       "3. 'blue'\n",
       "4. 'green'\n",
       "5. 'red'\n",
       "\n",
       "\n"
      ],
      "text/plain": [
       "[1] \"red\"   \"red\"   \"blue\"  \"green\" \"red\"  "
      ]
     },
     "execution_count": 61,
     "metadata": {},
     "output_type": "execute_result"
    }
   ],
   "source": [
    "stringcolors"
   ]
  },
  {
   "cell_type": "markdown",
   "metadata": {},
   "source": [
    "Let's convert it to factors."
   ]
  },
  {
   "cell_type": "code",
   "execution_count": 62,
   "metadata": {
    "collapsed": true
   },
   "outputs": [],
   "source": [
    "colors = factor(stringcolors)"
   ]
  },
  {
   "cell_type": "code",
   "execution_count": 63,
   "metadata": {
    "collapsed": false
   },
   "outputs": [
    {
     "data": {
      "text/html": [
       "<ol class=list-inline>\n",
       "\t<li>red</li>\n",
       "\t<li>red</li>\n",
       "\t<li>blue</li>\n",
       "\t<li>green</li>\n",
       "\t<li>red</li>\n",
       "</ol>\n"
      ],
      "text/latex": [
       "\\begin{enumerate*}\n",
       "\\item red\n",
       "\\item red\n",
       "\\item blue\n",
       "\\item green\n",
       "\\item red\n",
       "\\end{enumerate*}\n"
      ],
      "text/markdown": [
       "1. red\n",
       "2. red\n",
       "3. blue\n",
       "4. green\n",
       "5. red\n",
       "\n",
       "\n"
      ],
      "text/plain": [
       "[1] red   red   blue  green red  \n",
       "Levels: blue green red"
      ]
     },
     "execution_count": 63,
     "metadata": {},
     "output_type": "execute_result"
    }
   ],
   "source": [
    "colors"
   ]
  },
  {
   "cell_type": "code",
   "execution_count": 64,
   "metadata": {
    "collapsed": false
   },
   "outputs": [
    {
     "data": {
      "text/html": [
       "TRUE"
      ],
      "text/latex": [
       "TRUE"
      ],
      "text/markdown": [
       "TRUE"
      ],
      "text/plain": [
       "[1] TRUE"
      ]
     },
     "execution_count": 64,
     "metadata": {},
     "output_type": "execute_result"
    }
   ],
   "source": [
    "is.factor(colors)"
   ]
  },
  {
   "cell_type": "code",
   "execution_count": 65,
   "metadata": {
    "collapsed": true
   },
   "outputs": [],
   "source": [
    "sizes = factor(c(\"S\",\"M\",\"M\",\"L\",\"S\"))"
   ]
  },
  {
   "cell_type": "code",
   "execution_count": 66,
   "metadata": {
    "collapsed": false
   },
   "outputs": [],
   "source": [
    "prices = factor(c(19.99, 12.99, 9.99,12.99,19.99))"
   ]
  },
  {
   "cell_type": "code",
   "execution_count": 67,
   "metadata": {
    "collapsed": false
   },
   "outputs": [
    {
     "data": {
      "text/html": [
       "<ol class=list-inline>\n",
       "\t<li>19.99</li>\n",
       "\t<li>12.99</li>\n",
       "\t<li>9.99</li>\n",
       "\t<li>12.99</li>\n",
       "\t<li>19.99</li>\n",
       "</ol>\n"
      ],
      "text/latex": [
       "\\begin{enumerate*}\n",
       "\\item 19.99\n",
       "\\item 12.99\n",
       "\\item 9.99\n",
       "\\item 12.99\n",
       "\\item 19.99\n",
       "\\end{enumerate*}\n"
      ],
      "text/markdown": [
       "1. 19.99\n",
       "2. 12.99\n",
       "3. 9.99\n",
       "4. 12.99\n",
       "5. 19.99\n",
       "\n",
       "\n"
      ],
      "text/plain": [
       "[1] 19.99 12.99 9.99  12.99 19.99\n",
       "Levels: 9.99 12.99 19.99"
      ]
     },
     "execution_count": 67,
     "metadata": {},
     "output_type": "execute_result"
    }
   ],
   "source": [
    "prices"
   ]
  },
  {
   "cell_type": "code",
   "execution_count": 68,
   "metadata": {
    "collapsed": false
   },
   "outputs": [],
   "source": [
    "clothes = data.frame(colors,sizes,prices)"
   ]
  },
  {
   "cell_type": "code",
   "execution_count": 69,
   "metadata": {
    "collapsed": false
   },
   "outputs": [
    {
     "data": {
      "text/html": [
       "<table>\n",
       "<thead><tr><th></th><th scope=col>colors</th><th scope=col>sizes</th><th scope=col>prices</th></tr></thead>\n",
       "<tbody>\n",
       "\t<tr><th scope=row>1</th><td>red</td><td>S</td><td>19.99</td></tr>\n",
       "\t<tr><th scope=row>2</th><td>red</td><td>M</td><td>12.99</td></tr>\n",
       "\t<tr><th scope=row>3</th><td>blue</td><td>M</td><td>9.99</td></tr>\n",
       "\t<tr><th scope=row>4</th><td>green</td><td>L</td><td>12.99</td></tr>\n",
       "\t<tr><th scope=row>5</th><td>red</td><td>S</td><td>19.99</td></tr>\n",
       "</tbody>\n",
       "</table>\n"
      ],
      "text/latex": [
       "\\begin{tabular}{r|lll}\n",
       "  & colors & sizes & prices\\\\\n",
       "\\hline\n",
       "\t1 & red & S & 19.99\\\\\n",
       "\t2 & red & M & 12.99\\\\\n",
       "\t3 & blue & M & 9.99\\\\\n",
       "\t4 & green & L & 12.99\\\\\n",
       "\t5 & red & S & 19.99\\\\\n",
       "\\end{tabular}\n"
      ],
      "text/plain": [
       "  colors sizes prices\n",
       "1    red     S  19.99\n",
       "2    red     M  12.99\n",
       "3   blue     M   9.99\n",
       "4  green     L  12.99\n",
       "5    red     S  19.99"
      ]
     },
     "execution_count": 69,
     "metadata": {},
     "output_type": "execute_result"
    }
   ],
   "source": [
    "clothes"
   ]
  },
  {
   "cell_type": "code",
   "execution_count": 70,
   "metadata": {
    "collapsed": false
   },
   "outputs": [
    {
     "data": {
      "text/plain": [
       "   colors  sizes   prices \n",
       " blue :1   L:1   9.99 :1  \n",
       " green:1   M:2   12.99:2  \n",
       " red  :3   S:2   19.99:2  "
      ]
     },
     "execution_count": 70,
     "metadata": {},
     "output_type": "execute_result"
    }
   ],
   "source": [
    "summary(clothes)"
   ]
  },
  {
   "cell_type": "code",
   "execution_count": 71,
   "metadata": {
    "collapsed": false
   },
   "outputs": [
    {
     "data": {
      "text/plain": [
       "       sizes\n",
       "colors  L M S\n",
       "  blue  0 1 0\n",
       "  green 1 0 0\n",
       "  red   0 1 2"
      ]
     },
     "execution_count": 71,
     "metadata": {},
     "output_type": "execute_result"
    }
   ],
   "source": [
    "xtabs(~colors+sizes, data=clothes)"
   ]
  },
  {
   "cell_type": "markdown",
   "metadata": {},
   "source": [
    "But the sizes are in the wrong order; R has no way to know what it is.  To tell R to treat a variable as ordinal, we do this:"
   ]
  },
  {
   "cell_type": "code",
   "execution_count": 72,
   "metadata": {
    "collapsed": true
   },
   "outputs": [],
   "source": [
    "sizes = factor(sizes,levels=c(\"S\",\"M\",\"L\"), ordered=TRUE)"
   ]
  },
  {
   "cell_type": "code",
   "execution_count": 74,
   "metadata": {
    "collapsed": false
   },
   "outputs": [],
   "source": [
    "clothes = data.frame(colors,sizes,prices)"
   ]
  },
  {
   "cell_type": "code",
   "execution_count": 75,
   "metadata": {
    "collapsed": false
   },
   "outputs": [
    {
     "data": {
      "text/plain": [
       "       sizes\n",
       "colors  S M L\n",
       "  blue  0 1 0\n",
       "  green 0 0 1\n",
       "  red   2 1 0"
      ]
     },
     "execution_count": 75,
     "metadata": {},
     "output_type": "execute_result"
    }
   ],
   "source": [
    "xtabs(~colors+sizes, data=clothes)"
   ]
  },
  {
   "cell_type": "markdown",
   "metadata": {},
   "source": [
    "Now the sizes have been ordered S<M<L"
   ]
  },
  {
   "cell_type": "code",
   "execution_count": null,
   "metadata": {
    "collapsed": true
   },
   "outputs": [],
   "source": []
  }
 ],
 "metadata": {
  "kernelspec": {
   "display_name": "R",
   "language": "R",
   "name": "ir"
  },
  "language_info": {
   "codemirror_mode": "r",
   "file_extension": ".r",
   "mimetype": "text/x-r-source",
   "name": "R",
   "pygments_lexer": "r",
   "version": "3.2.2"
  }
 },
 "nbformat": 4,
 "nbformat_minor": 0
}
